{
 "metadata": {
  "language_info": {
   "codemirror_mode": {
    "name": "ipython",
    "version": 3
   },
   "file_extension": ".py",
   "mimetype": "text/x-python",
   "name": "python",
   "nbconvert_exporter": "python",
   "pygments_lexer": "ipython3",
   "version": "3.7.7-final"
  },
  "orig_nbformat": 2,
  "kernelspec": {
   "name": "python_defaultSpec_1598429064192",
   "display_name": "Python 3.8.3 64-bit"
  }
 },
 "nbformat": 4,
 "nbformat_minor": 2,
 "cells": [
  {
   "cell_type": "markdown",
   "metadata": {},
   "source": [
    "# FUNCTIONS"
   ]
  },
  {
   "cell_type": "code",
   "execution_count": 17,
   "metadata": {},
   "outputs": [],
   "source": [
    "# !git clone https://github.com/Line233/one.git ./one\n",
    "# !mv ./one/tool.py ./"
   ]
  },
  {
   "cell_type": "code",
   "execution_count": 18,
   "metadata": {},
   "outputs": [
    {
     "output_type": "execute_result",
     "data": {
      "text/plain": "<module 'tool' from 'c:\\\\Users\\\\XiaoXin\\\\Documents\\\\code\\\\ONE\\\\tool.py'>"
     },
     "metadata": {},
     "execution_count": 18
    }
   ],
   "source": [
    "import torch\n",
    "import random\n",
    "import torchvision\n",
    "import pandas as pd\n",
    "import numpy as np \n",
    "import matplotlib.pyplot as plt\n",
    "import torch.utils.data as data\n",
    "import torch.nn as nn\n",
    "import tool\n",
    "%matplotlib inline\n",
    "import importlib\n",
    "importlib.reload(tool)"
   ]
  },
  {
   "cell_type": "code",
   "execution_count": 19,
   "metadata": {},
   "outputs": [],
   "source": [
    "class mnist_data(data.Dataset):\n",
    "    def __init__(self,x,y):\n",
    "        self.x=x.float()\n",
    "        self.y=y.long()\n",
    "    def __len__(self):\n",
    "        return len(self.x)\n",
    "    def __getitem__(self,index):\n",
    "        if self.y is not None:\n",
    "            return self.x[index].reshape([-1]),self.y[index].long()\n",
    "        else:\n",
    "            return self.x[index].reshape([-1])"
   ]
  },
  {
   "cell_type": "code",
   "execution_count": 20,
   "metadata": {},
   "outputs": [],
   "source": [
    "class mnist_single(nn.Module):\n",
    "    def __init__(self,input_a,hidden_a,device=torch.device('cpu'),rand_seed=10):\n",
    "        super(mnist_single,self).__init__()\n",
    "        torch.manual_seed(rand_seed)\n",
    "        self.device=device\n",
    "        self.hidden_a=hidden_a\n",
    "        self.linear1=nn.Linear(input_a,self.hidden_a)\n",
    "        self.relu=nn.ReLU()\n",
    "        self.linear2=nn.Linear(self.hidden_a,10)\n",
    "        self.softmax=nn.Softmax(dim=1)\n",
    "        self.lossF=nn.CrossEntropyLoss()\n",
    "    def forward(self,input):\n",
    "        input=input.to(self.device)\n",
    "        res=self.linear1(input)\n",
    "        res=self.relu(res)\n",
    "        res=self.linear2(res)\n",
    "        res=self.softmax(res)\n",
    "        return res\n",
    "\n",
    "    \n",
    "    \n",
    "    def reset_loss_record(self):\n",
    "        self.__total_loss__=0.0\n",
    "        self.__right_num__=0\n",
    "        self.__total_num__=0\n",
    "    def computeloss(self,x,y,res):\n",
    "        y=y.to(self.device)\n",
    "        loss=self.lossF(res,y)\n",
    "        self.__total_loss__+=loss.tolist()*len(x)\n",
    "        a=res.argmax(dim=1)\n",
    "        self.__right_num__+=torch.eq(a,y).sum().tolist()\n",
    "        self.__total_num__+=len(x)\n",
    "        return loss\n",
    "    def get_loss(self):\n",
    "        return self.__total_loss__/self.__total_num__,self.__right_num__/self.__total_num__"
   ]
  },
  {
   "cell_type": "code",
   "execution_count": 21,
   "metadata": {},
   "outputs": [],
   "source": [
    "class mnist_cov(nn.Module):\n",
    "    def __init__(self,input_a,input_channel,device=torch.device('cpu'),rand_seed=10):\n",
    "        super(mnist_cov,self).__init__()\n",
    "        torch.manual_seed(rand_seed)\n",
    "        self.device=device\n",
    "        self.inputa=input_a\n",
    "        self.input_channel=input_channel\n",
    "\n",
    "        self.out=nn.Sequential(\n",
    "            nn.Conv2d(1,4,3,1,1),\n",
    "            nn.MaxPool2d(3,2),\n",
    "            nn.Conv2d(4,16,3,1,1),\n",
    "            nn.MaxPool2d(3,2)\n",
    "        )\n",
    "        self.out2=nn.Sequential(\n",
    "            nn.Linear(16,10),\n",
    "            nn.Softmax(dim=1)\n",
    "        )\n",
    "        self.lossF=nn.CrossEntropyLoss()\n",
    "        pass\n",
    "    def forward(self,input):\n",
    "        input=input.reshape([-1,self.input_channel,self.inputa,self.inputa]).to(self.device)\n",
    "        res=self.out(input)\n",
    "        res= res.reshape([-1,16])\n",
    "        res=self.out2(res)\n",
    "        return res\n",
    "    def reset_loss_record(self):\n",
    "        self.__total_loss__=0.0\n",
    "        self.__right_num__=0\n",
    "        self.__total_num__=0\n",
    "    def computeloss(self,x,y,res):\n",
    "        y=y.to(self.device)\n",
    "        loss=self.lossF(res,y)\n",
    "        self.__total_loss__+=loss.tolist()*len(x)\n",
    "        a=res.argmax(dim=1)\n",
    "        self.__right_num__+=torch.eq(a,y).sum().tolist()\n",
    "        self.__total_num__+=len(x)\n",
    "        return loss\n",
    "    def get_loss(self):\n",
    "        return self.__total_loss__/self.__total_num__,self.__right_num__/self.__total_num__\n",
    "\n",
    "    def expand(self):\n",
    "        new_linear=nn.Linear(self.linear1.in_features,self.linear1.out_features+1)\n",
    "        new_linear2=nn.Linear(self.linear2.in_features+1,self.linear2.out_features)\n",
    "        with torch.no_grad():\n",
    "            # weight=np.zeros([self.linear1.out_features])\n",
    "            # for i in range(self.linear1.out_features):\n",
    "            #     weight[i]=abs(self.linear1.weight.data[i]*self.linear2.weight.data[:,i])\n",
    "            index=0\n",
    "\n",
    "            weight=self.__expand_weight_down__(self.linear1.weight.data.detach(),index)\n",
    "            bias=self.__expand_weight_down__(self.linear1.bias.data.detach(),index)\n",
    "            new_linear.weight.data=weight\n",
    "            new_linear.bias.data=bias\n",
    "\n",
    "            weight2=self.__expand_weight_up__(self.linear2.weight.data.detach(),index)\n",
    "            new_linear2.weight.data=weight2\n",
    "\n",
    "        self.linear1=new_linear\n",
    "        self.linear2=new_linear2 \n",
    "        return\n",
    "\n",
    "    def __expand_weight_up__(self,weight,index):\n",
    "        with torch.no_grad():\n",
    "            shape=torch.tensor(weight.shape)\n",
    "            shape[1]=1\n",
    "            # new_weight=weight.data[:,index].reshape(shape.tolist()).clone()*0.4\n",
    "            new_weight=torch.zeros(shape.tolist())+0.001\n",
    "            weight.data[:,index]*=1\n",
    "            new_weight=torch.cat([weight,new_weight],dim=1)\n",
    "        return new_weight\n",
    "\n",
    "    def __expand_weight_down__(self,weight,index):\n",
    "        with torch.no_grad():\n",
    "            shape=torch.tensor(weight.shape)\n",
    "            shape[0]=1\n",
    "            # new_weight=weight[index].reshape(shape.tolist()).clone()*0.4\n",
    "            new_weight=torch.zeros(shape.tolist())+0.001\n",
    "            weight.data[index]*=1\n",
    "            new_weight=torch.cat([weight,new_weight])\n",
    "        return new_weight"
   ]
  },
  {
   "cell_type": "code",
   "execution_count": 22,
   "metadata": {},
   "outputs": [],
   "source": [
    "def early_end(records,last,mini=70,step=30,bias=5):\n",
    "    if len(records)-last<mini:\n",
    "        return False\n",
    "    elif records[-step][2]-records[-1][2]-bias>0:\n",
    "        return False\n",
    "    else:return True\n",
    "def dlr1(index):return pow(0.1,index+3)"
   ]
  },
  {
   "cell_type": "markdown",
   "metadata": {},
   "source": [
    "# DATA"
   ]
  },
  {
   "cell_type": "code",
   "execution_count": 23,
   "metadata": {},
   "outputs": [],
   "source": [
    "train_data=torch.load('./data/train_hidden')\n",
    "valid_data=torch.load('./data/valid_hidden')\n",
    "test_data=torch.load('./data/test_hidden')"
   ]
  },
  {
   "cell_type": "code",
   "execution_count": 24,
   "metadata": {},
   "outputs": [],
   "source": [
    "device=torch.device('cuda') if torch.cuda.is_available() else torch.device('cpu')\n",
    "labels=['train_loss','train_precise','valid_loss','valid_precise']\n",
    "select_loss=[True,False,True,False]\n",
    "select_precise=[False,True,False,True]"
   ]
  },
  {
   "cell_type": "code",
   "execution_count": 25,
   "metadata": {},
   "outputs": [],
   "source": [
    "simple_data=mnist_data(valid_data[0:100][0].reshape([-1,10,10]),valid_data[0:100][1])"
   ]
  },
  {
   "cell_type": "markdown",
   "metadata": {},
   "source": [
    "# TRAIN_CONV"
   ]
  },
  {
   "cell_type": "code",
   "execution_count": null,
   "metadata": {},
   "outputs": [],
   "source": [
    "model=mnist_cov(10,1,device).to(device)\n",
    "record1=[]"
   ]
  },
  {
   "cell_type": "code",
   "execution_count": null,
   "metadata": {
    "tags": []
   },
   "outputs": [],
   "source": [
    "record1+=tool.TrainTool.train_epoch(model,simple_data,valid_data,lr=0.0001,batch_size=1000,epoch=10)"
   ]
  },
  {
   "cell_type": "code",
   "execution_count": null,
   "metadata": {},
   "outputs": [],
   "source": [
    "lc1=tool.learning_curve(record1,reshape=True)\n",
    "lc1.save('./data/conv_lc.npy')"
   ]
  },
  {
   "cell_type": "markdown",
   "metadata": {},
   "source": [
    "# TRAIN_SINGLE"
   ]
  },
  {
   "cell_type": "code",
   "execution_count": null,
   "metadata": {},
   "outputs": [],
   "source": [
    "model_single=mnist_single(100,50,device=device).to(device)\n",
    "res=[]\n",
    "optim=torch.optim.Adam(model_single.parameters(),lr=0.001)"
   ]
  },
  {
   "cell_type": "code",
   "execution_count": null,
   "metadata": {
    "tags": []
   },
   "outputs": [],
   "source": [
    "res+=tool.TrainTool.train_epoch(model_single,train_data,valid_data,lr=0.001,batch_size=800,epoch=1,optim=optim)"
   ]
  },
  {
   "cell_type": "code",
   "execution_count": null,
   "metadata": {},
   "outputs": [],
   "source": [
    "lc2=tool.learning_curve(res,labels,reshape=True)"
   ]
  },
  {
   "cell_type": "code",
   "execution_count": null,
   "metadata": {},
   "outputs": [],
   "source": [
    "lc2=tool.learning_curve.load('./data/single_lc.npy',labels)"
   ]
  },
  {
   "cell_type": "code",
   "execution_count": null,
   "metadata": {},
   "outputs": [],
   "source": [
    "lc2=tool.learning_curve.load(single_lc_name)"
   ]
  },
  {
   "cell_type": "code",
   "execution_count": null,
   "metadata": {
    "tags": []
   },
   "outputs": [],
   "source": [
    "lc2.draw(select=select_loss)\n",
    "lc2.draw_range(select=select_loss,block_num=10,expand=20)"
   ]
  },
  {
   "cell_type": "markdown",
   "metadata": {},
   "source": [
    "save"
   ]
  },
  {
   "cell_type": "code",
   "execution_count": null,
   "metadata": {},
   "outputs": [],
   "source": [
    "single_lc_name='./data/single_lc.npy'\n",
    "single_model_name='./data/single_model.npy'\n",
    "single_optim_name='./data/single_optim'"
   ]
  },
  {
   "cell_type": "code",
   "execution_count": null,
   "metadata": {},
   "outputs": [],
   "source": [
    "# lc2.save(single_lc_name)\n",
    "# torch.save(model_single,single_model_name)\n",
    "# torch.save(optim.state_dict(),single_optim_name)"
   ]
  },
  {
   "cell_type": "code",
   "execution_count": null,
   "metadata": {},
   "outputs": [],
   "source": [
    "# tool.download('./data/single_lc.npy')\n",
    "# tool.download('./data/single_model')"
   ]
  },
  {
   "cell_type": "markdown",
   "metadata": {},
   "source": [
    "# ADAM_RESET"
   ]
  },
  {
   "cell_type": "code",
   "execution_count": 28,
   "metadata": {},
   "outputs": [],
   "source": [
    "ar_model=mnist_single(100,50,device).to(device)\n",
    "ar_record=[]\n",
    "ar_reset=[]"
   ]
  },
  {
   "cell_type": "code",
   "execution_count": 29,
   "metadata": {
    "tags": []
   },
   "outputs": [
    {
     "output_type": "stream",
     "name": "stdout",
     "text": "0\t[2.156122422218323, 0.299, 2.2267514218886695, 0.22479166666666667]\n1\t[2.0277809858322144, 0.426, 2.1643164853254953, 0.2911458333333333]\n2\t[1.92482990026474, 0.531, 2.103173092007637, 0.35229166666666667]\n3\t[1.876776146888733, 0.579, 2.065376271804174, 0.3907291666666667]\n4\t[1.8380603790283203, 0.622, 2.055356656511625, 0.40302083333333333]\n5\t[1.7987482070922851, 0.66, 2.0312630087137222, 0.4269791666666667]\n6\t[1.7934735774993897, 0.661, 2.0240913977225623, 0.4327083333333333]\n7\t[1.7640150547027589, 0.69, 2.0059616416692734, 0.4509375]\n8\t[1.7389726996421815, 0.717, 1.9994389067093532, 0.4555208333333333]\n9\t[1.7334473371505736, 0.72, 1.9930139655868213, 0.4633333333333333]\n10\t[1.7270530343055726, 0.726, 1.9881736611326535, 0.4683333333333333]\n11\t[1.722032606601715, 0.73, 1.9845012451211612, 0.4721875]\n12\t[1.7195691823959351, 0.732, 1.9807888269424438, 0.4759375]\nvaliding... 83.33%"
    },
    {
     "output_type": "error",
     "ename": "KeyboardInterrupt",
     "evalue": "",
     "traceback": [
      "\u001b[1;31m---------------------------------------------------------------------------\u001b[0m",
      "\u001b[1;31mKeyboardInterrupt\u001b[0m                         Traceback (most recent call last)",
      "\u001b[1;32m<ipython-input-29-2580ff5dd003>\u001b[0m in \u001b[0;36m<module>\u001b[1;34m\u001b[0m\n\u001b[1;32m----> 1\u001b[1;33m \u001b[0mcurrent\u001b[0m\u001b[1;33m=\u001b[0m\u001b[0mtool\u001b[0m\u001b[1;33m.\u001b[0m\u001b[0mTrainTool\u001b[0m\u001b[1;33m.\u001b[0m\u001b[0mtrain_adam_reset\u001b[0m\u001b[1;33m(\u001b[0m\u001b[0mar_model\u001b[0m\u001b[1;33m,\u001b[0m\u001b[0msimple_data\u001b[0m\u001b[1;33m,\u001b[0m\u001b[0mvalid_data\u001b[0m\u001b[1;33m,\u001b[0m\u001b[0mdlr\u001b[0m\u001b[1;33m=\u001b[0m\u001b[0mdlr1\u001b[0m\u001b[1;33m,\u001b[0m\u001b[0mbatch_size\u001b[0m\u001b[1;33m=\u001b[0m\u001b[1;36m1000\u001b[0m\u001b[1;33m,\u001b[0m\u001b[0mepoch\u001b[0m\u001b[1;33m=\u001b[0m\u001b[1;36m100\u001b[0m\u001b[1;33m,\u001b[0m\u001b[0mepoch_per\u001b[0m\u001b[1;33m=\u001b[0m\u001b[1;36m10\u001b[0m\u001b[1;33m,\u001b[0m\u001b[0mearly_end\u001b[0m\u001b[1;33m=\u001b[0m\u001b[0mearly_end\u001b[0m\u001b[1;33m)\u001b[0m\u001b[1;33m\u001b[0m\u001b[1;33m\u001b[0m\u001b[0m\n\u001b[0m\u001b[0;32m      2\u001b[0m \u001b[0mar_record\u001b[0m\u001b[1;33m.\u001b[0m\u001b[0mappend\u001b[0m\u001b[1;33m(\u001b[0m\u001b[0mcurrent\u001b[0m\u001b[1;33m[\u001b[0m\u001b[1;36m0\u001b[0m\u001b[1;33m]\u001b[0m\u001b[1;33m)\u001b[0m\u001b[1;33m\u001b[0m\u001b[1;33m\u001b[0m\u001b[0m\n\u001b[0;32m      3\u001b[0m \u001b[0mar_reset\u001b[0m\u001b[1;33m+=\u001b[0m\u001b[0mcurrent\u001b[0m\u001b[1;33m[\u001b[0m\u001b[1;36m1\u001b[0m\u001b[1;33m]\u001b[0m\u001b[1;33m\u001b[0m\u001b[1;33m\u001b[0m\u001b[0m\n",
      "\u001b[1;32mc:\\Users\\XiaoXin\\Documents\\code\\ONE\\tool.py\u001b[0m in \u001b[0;36mtrain_adam_reset\u001b[1;34m(model, train_data, valid_data, dlr, batch_size, epoch, epoch_per, optim, early_end)\u001b[0m\n\u001b[0;32m    191\u001b[0m             \u001b[0mcurrent\u001b[0m\u001b[1;33m=\u001b[0m\u001b[1;33m[\u001b[0m\u001b[1;33m]\u001b[0m\u001b[1;33m\u001b[0m\u001b[1;33m\u001b[0m\u001b[0m\n\u001b[0;32m    192\u001b[0m             \u001b[0mcurrent\u001b[0m\u001b[1;33m+=\u001b[0m\u001b[0mTrainTool\u001b[0m\u001b[1;33m.\u001b[0m\u001b[0mtrain_once\u001b[0m\u001b[1;33m(\u001b[0m\u001b[0mmodel\u001b[0m\u001b[1;33m,\u001b[0m\u001b[0mtrain_data\u001b[0m\u001b[1;33m,\u001b[0m\u001b[0mlr\u001b[0m\u001b[1;33m=\u001b[0m\u001b[1;36m0\u001b[0m\u001b[1;33m,\u001b[0m\u001b[0mbatch_size\u001b[0m\u001b[1;33m=\u001b[0m\u001b[0mbatch_size\u001b[0m\u001b[1;33m,\u001b[0m\u001b[0mepoch\u001b[0m\u001b[1;33m=\u001b[0m\u001b[0mepoch_per\u001b[0m\u001b[1;33m,\u001b[0m\u001b[0moptim\u001b[0m\u001b[1;33m=\u001b[0m\u001b[0moptim\u001b[0m\u001b[1;33m)\u001b[0m\u001b[1;33m\u001b[0m\u001b[1;33m\u001b[0m\u001b[0m\n\u001b[1;32m--> 193\u001b[1;33m             \u001b[0mcurrent\u001b[0m\u001b[1;33m+=\u001b[0m\u001b[1;33m(\u001b[0m\u001b[0mTrainTool\u001b[0m\u001b[1;33m.\u001b[0m\u001b[0mvalid\u001b[0m\u001b[1;33m(\u001b[0m\u001b[0mmodel\u001b[0m\u001b[1;33m,\u001b[0m\u001b[0mvalid_data\u001b[0m\u001b[1;33m,\u001b[0m\u001b[0mbatch_size\u001b[0m\u001b[1;33m=\u001b[0m\u001b[0mbatch_size\u001b[0m\u001b[1;33m)\u001b[0m\u001b[1;33m)\u001b[0m\u001b[1;33m\u001b[0m\u001b[1;33m\u001b[0m\u001b[0m\n\u001b[0m\u001b[0;32m    194\u001b[0m             \u001b[0mprint\u001b[0m\u001b[1;33m(\u001b[0m\u001b[1;34mf'{i}\\t{current}'\u001b[0m\u001b[1;33m)\u001b[0m\u001b[1;33m\u001b[0m\u001b[1;33m\u001b[0m\u001b[0m\n\u001b[0;32m    195\u001b[0m             \u001b[0mloss_record\u001b[0m\u001b[1;33m.\u001b[0m\u001b[0mappend\u001b[0m\u001b[1;33m(\u001b[0m\u001b[1;33m(\u001b[0m\u001b[0mcurrent\u001b[0m\u001b[1;33m)\u001b[0m\u001b[1;33m)\u001b[0m\u001b[1;33m\u001b[0m\u001b[1;33m\u001b[0m\u001b[0m\n",
      "\u001b[1;32mc:\\Users\\XiaoXin\\Documents\\code\\ONE\\tool.py\u001b[0m in \u001b[0;36mvalid\u001b[1;34m(model, valid_data, batch_size)\u001b[0m\n\u001b[0;32m    154\u001b[0m         \u001b[0mpb\u001b[0m\u001b[1;33m=\u001b[0m\u001b[0mProgressBar\u001b[0m\u001b[1;33m(\u001b[0m\u001b[0mlen\u001b[0m\u001b[1;33m(\u001b[0m\u001b[0mvalid_data\u001b[0m\u001b[1;33m)\u001b[0m\u001b[1;33m,\u001b[0m\u001b[1;34m'validing...'\u001b[0m\u001b[1;33m)\u001b[0m\u001b[1;33m\u001b[0m\u001b[1;33m\u001b[0m\u001b[0m\n\u001b[0;32m    155\u001b[0m         \u001b[1;32mwith\u001b[0m \u001b[0mtorch\u001b[0m\u001b[1;33m.\u001b[0m\u001b[0mno_grad\u001b[0m\u001b[1;33m(\u001b[0m\u001b[1;33m)\u001b[0m\u001b[1;33m:\u001b[0m\u001b[1;33m\u001b[0m\u001b[1;33m\u001b[0m\u001b[0m\n\u001b[1;32m--> 156\u001b[1;33m             \u001b[1;32mfor\u001b[0m \u001b[0mx\u001b[0m\u001b[1;33m,\u001b[0m\u001b[0my\u001b[0m \u001b[1;32min\u001b[0m \u001b[0mloader\u001b[0m\u001b[1;33m:\u001b[0m\u001b[1;33m\u001b[0m\u001b[1;33m\u001b[0m\u001b[0m\n\u001b[0m\u001b[0;32m    157\u001b[0m                 \u001b[0mres\u001b[0m\u001b[1;33m=\u001b[0m\u001b[0mmodel\u001b[0m\u001b[1;33m(\u001b[0m\u001b[0mx\u001b[0m\u001b[1;33m)\u001b[0m\u001b[1;33m\u001b[0m\u001b[1;33m\u001b[0m\u001b[0m\n\u001b[0;32m    158\u001b[0m                 \u001b[0mloss\u001b[0m\u001b[1;33m=\u001b[0m\u001b[0mmodel\u001b[0m\u001b[1;33m.\u001b[0m\u001b[0mcomputeloss\u001b[0m\u001b[1;33m(\u001b[0m\u001b[0mx\u001b[0m\u001b[1;33m,\u001b[0m\u001b[0my\u001b[0m\u001b[1;33m,\u001b[0m\u001b[0mres\u001b[0m\u001b[1;33m)\u001b[0m\u001b[1;33m\u001b[0m\u001b[1;33m\u001b[0m\u001b[0m\n",
      "\u001b[1;32m~\\Documents\\code\\python_env\\course\\lib\\site-packages\\torch\\utils\\data\\dataloader.py\u001b[0m in \u001b[0;36m__next__\u001b[1;34m(self)\u001b[0m\n\u001b[0;32m    343\u001b[0m \u001b[1;33m\u001b[0m\u001b[0m\n\u001b[0;32m    344\u001b[0m     \u001b[1;32mdef\u001b[0m \u001b[0m__next__\u001b[0m\u001b[1;33m(\u001b[0m\u001b[0mself\u001b[0m\u001b[1;33m)\u001b[0m\u001b[1;33m:\u001b[0m\u001b[1;33m\u001b[0m\u001b[1;33m\u001b[0m\u001b[0m\n\u001b[1;32m--> 345\u001b[1;33m         \u001b[0mdata\u001b[0m \u001b[1;33m=\u001b[0m \u001b[0mself\u001b[0m\u001b[1;33m.\u001b[0m\u001b[0m_next_data\u001b[0m\u001b[1;33m(\u001b[0m\u001b[1;33m)\u001b[0m\u001b[1;33m\u001b[0m\u001b[1;33m\u001b[0m\u001b[0m\n\u001b[0m\u001b[0;32m    346\u001b[0m         \u001b[0mself\u001b[0m\u001b[1;33m.\u001b[0m\u001b[0m_num_yielded\u001b[0m \u001b[1;33m+=\u001b[0m \u001b[1;36m1\u001b[0m\u001b[1;33m\u001b[0m\u001b[1;33m\u001b[0m\u001b[0m\n\u001b[0;32m    347\u001b[0m         \u001b[1;32mif\u001b[0m \u001b[0mself\u001b[0m\u001b[1;33m.\u001b[0m\u001b[0m_dataset_kind\u001b[0m \u001b[1;33m==\u001b[0m \u001b[0m_DatasetKind\u001b[0m\u001b[1;33m.\u001b[0m\u001b[0mIterable\u001b[0m \u001b[1;32mand\u001b[0m\u001b[0;31m \u001b[0m\u001b[0;31m\\\u001b[0m\u001b[1;33m\u001b[0m\u001b[1;33m\u001b[0m\u001b[0m\n",
      "\u001b[1;32m~\\Documents\\code\\python_env\\course\\lib\\site-packages\\torch\\utils\\data\\dataloader.py\u001b[0m in \u001b[0;36m_next_data\u001b[1;34m(self)\u001b[0m\n\u001b[0;32m    383\u001b[0m     \u001b[1;32mdef\u001b[0m \u001b[0m_next_data\u001b[0m\u001b[1;33m(\u001b[0m\u001b[0mself\u001b[0m\u001b[1;33m)\u001b[0m\u001b[1;33m:\u001b[0m\u001b[1;33m\u001b[0m\u001b[1;33m\u001b[0m\u001b[0m\n\u001b[0;32m    384\u001b[0m         \u001b[0mindex\u001b[0m \u001b[1;33m=\u001b[0m \u001b[0mself\u001b[0m\u001b[1;33m.\u001b[0m\u001b[0m_next_index\u001b[0m\u001b[1;33m(\u001b[0m\u001b[1;33m)\u001b[0m  \u001b[1;31m# may raise StopIteration\u001b[0m\u001b[1;33m\u001b[0m\u001b[1;33m\u001b[0m\u001b[0m\n\u001b[1;32m--> 385\u001b[1;33m         \u001b[0mdata\u001b[0m \u001b[1;33m=\u001b[0m \u001b[0mself\u001b[0m\u001b[1;33m.\u001b[0m\u001b[0m_dataset_fetcher\u001b[0m\u001b[1;33m.\u001b[0m\u001b[0mfetch\u001b[0m\u001b[1;33m(\u001b[0m\u001b[0mindex\u001b[0m\u001b[1;33m)\u001b[0m  \u001b[1;31m# may raise StopIteration\u001b[0m\u001b[1;33m\u001b[0m\u001b[1;33m\u001b[0m\u001b[0m\n\u001b[0m\u001b[0;32m    386\u001b[0m         \u001b[1;32mif\u001b[0m \u001b[0mself\u001b[0m\u001b[1;33m.\u001b[0m\u001b[0m_pin_memory\u001b[0m\u001b[1;33m:\u001b[0m\u001b[1;33m\u001b[0m\u001b[1;33m\u001b[0m\u001b[0m\n\u001b[0;32m    387\u001b[0m             \u001b[0mdata\u001b[0m \u001b[1;33m=\u001b[0m \u001b[0m_utils\u001b[0m\u001b[1;33m.\u001b[0m\u001b[0mpin_memory\u001b[0m\u001b[1;33m.\u001b[0m\u001b[0mpin_memory\u001b[0m\u001b[1;33m(\u001b[0m\u001b[0mdata\u001b[0m\u001b[1;33m)\u001b[0m\u001b[1;33m\u001b[0m\u001b[1;33m\u001b[0m\u001b[0m\n",
      "\u001b[1;32m~\\Documents\\code\\python_env\\course\\lib\\site-packages\\torch\\utils\\data\\_utils\\fetch.py\u001b[0m in \u001b[0;36mfetch\u001b[1;34m(self, possibly_batched_index)\u001b[0m\n\u001b[0;32m     42\u001b[0m     \u001b[1;32mdef\u001b[0m \u001b[0mfetch\u001b[0m\u001b[1;33m(\u001b[0m\u001b[0mself\u001b[0m\u001b[1;33m,\u001b[0m \u001b[0mpossibly_batched_index\u001b[0m\u001b[1;33m)\u001b[0m\u001b[1;33m:\u001b[0m\u001b[1;33m\u001b[0m\u001b[1;33m\u001b[0m\u001b[0m\n\u001b[0;32m     43\u001b[0m         \u001b[1;32mif\u001b[0m \u001b[0mself\u001b[0m\u001b[1;33m.\u001b[0m\u001b[0mauto_collation\u001b[0m\u001b[1;33m:\u001b[0m\u001b[1;33m\u001b[0m\u001b[1;33m\u001b[0m\u001b[0m\n\u001b[1;32m---> 44\u001b[1;33m             \u001b[0mdata\u001b[0m \u001b[1;33m=\u001b[0m \u001b[1;33m[\u001b[0m\u001b[0mself\u001b[0m\u001b[1;33m.\u001b[0m\u001b[0mdataset\u001b[0m\u001b[1;33m[\u001b[0m\u001b[0midx\u001b[0m\u001b[1;33m]\u001b[0m \u001b[1;32mfor\u001b[0m \u001b[0midx\u001b[0m \u001b[1;32min\u001b[0m \u001b[0mpossibly_batched_index\u001b[0m\u001b[1;33m]\u001b[0m\u001b[1;33m\u001b[0m\u001b[1;33m\u001b[0m\u001b[0m\n\u001b[0m\u001b[0;32m     45\u001b[0m         \u001b[1;32melse\u001b[0m\u001b[1;33m:\u001b[0m\u001b[1;33m\u001b[0m\u001b[1;33m\u001b[0m\u001b[0m\n\u001b[0;32m     46\u001b[0m             \u001b[0mdata\u001b[0m \u001b[1;33m=\u001b[0m \u001b[0mself\u001b[0m\u001b[1;33m.\u001b[0m\u001b[0mdataset\u001b[0m\u001b[1;33m[\u001b[0m\u001b[0mpossibly_batched_index\u001b[0m\u001b[1;33m]\u001b[0m\u001b[1;33m\u001b[0m\u001b[1;33m\u001b[0m\u001b[0m\n",
      "\u001b[1;32m~\\Documents\\code\\python_env\\course\\lib\\site-packages\\torch\\utils\\data\\_utils\\fetch.py\u001b[0m in \u001b[0;36m<listcomp>\u001b[1;34m(.0)\u001b[0m\n\u001b[0;32m     42\u001b[0m     \u001b[1;32mdef\u001b[0m \u001b[0mfetch\u001b[0m\u001b[1;33m(\u001b[0m\u001b[0mself\u001b[0m\u001b[1;33m,\u001b[0m \u001b[0mpossibly_batched_index\u001b[0m\u001b[1;33m)\u001b[0m\u001b[1;33m:\u001b[0m\u001b[1;33m\u001b[0m\u001b[1;33m\u001b[0m\u001b[0m\n\u001b[0;32m     43\u001b[0m         \u001b[1;32mif\u001b[0m \u001b[0mself\u001b[0m\u001b[1;33m.\u001b[0m\u001b[0mauto_collation\u001b[0m\u001b[1;33m:\u001b[0m\u001b[1;33m\u001b[0m\u001b[1;33m\u001b[0m\u001b[0m\n\u001b[1;32m---> 44\u001b[1;33m             \u001b[0mdata\u001b[0m \u001b[1;33m=\u001b[0m \u001b[1;33m[\u001b[0m\u001b[0mself\u001b[0m\u001b[1;33m.\u001b[0m\u001b[0mdataset\u001b[0m\u001b[1;33m[\u001b[0m\u001b[0midx\u001b[0m\u001b[1;33m]\u001b[0m \u001b[1;32mfor\u001b[0m \u001b[0midx\u001b[0m \u001b[1;32min\u001b[0m \u001b[0mpossibly_batched_index\u001b[0m\u001b[1;33m]\u001b[0m\u001b[1;33m\u001b[0m\u001b[1;33m\u001b[0m\u001b[0m\n\u001b[0m\u001b[0;32m     45\u001b[0m         \u001b[1;32melse\u001b[0m\u001b[1;33m:\u001b[0m\u001b[1;33m\u001b[0m\u001b[1;33m\u001b[0m\u001b[0m\n\u001b[0;32m     46\u001b[0m             \u001b[0mdata\u001b[0m \u001b[1;33m=\u001b[0m \u001b[0mself\u001b[0m\u001b[1;33m.\u001b[0m\u001b[0mdataset\u001b[0m\u001b[1;33m[\u001b[0m\u001b[0mpossibly_batched_index\u001b[0m\u001b[1;33m]\u001b[0m\u001b[1;33m\u001b[0m\u001b[1;33m\u001b[0m\u001b[0m\n",
      "\u001b[1;32m<ipython-input-19-2518cb33257d>\u001b[0m in \u001b[0;36m__getitem__\u001b[1;34m(self, index)\u001b[0m\n\u001b[0;32m      7\u001b[0m     \u001b[1;32mdef\u001b[0m \u001b[0m__getitem__\u001b[0m\u001b[1;33m(\u001b[0m\u001b[0mself\u001b[0m\u001b[1;33m,\u001b[0m\u001b[0mindex\u001b[0m\u001b[1;33m)\u001b[0m\u001b[1;33m:\u001b[0m\u001b[1;33m\u001b[0m\u001b[1;33m\u001b[0m\u001b[0m\n\u001b[0;32m      8\u001b[0m         \u001b[1;32mif\u001b[0m \u001b[0mself\u001b[0m\u001b[1;33m.\u001b[0m\u001b[0my\u001b[0m \u001b[1;32mis\u001b[0m \u001b[1;32mnot\u001b[0m \u001b[1;32mNone\u001b[0m\u001b[1;33m:\u001b[0m\u001b[1;33m\u001b[0m\u001b[1;33m\u001b[0m\u001b[0m\n\u001b[1;32m----> 9\u001b[1;33m             \u001b[1;32mreturn\u001b[0m \u001b[0mself\u001b[0m\u001b[1;33m.\u001b[0m\u001b[0mx\u001b[0m\u001b[1;33m[\u001b[0m\u001b[0mindex\u001b[0m\u001b[1;33m]\u001b[0m\u001b[1;33m.\u001b[0m\u001b[0mreshape\u001b[0m\u001b[1;33m(\u001b[0m\u001b[1;33m[\u001b[0m\u001b[1;33m-\u001b[0m\u001b[1;36m1\u001b[0m\u001b[1;33m]\u001b[0m\u001b[1;33m)\u001b[0m\u001b[1;33m,\u001b[0m\u001b[0mself\u001b[0m\u001b[1;33m.\u001b[0m\u001b[0my\u001b[0m\u001b[1;33m[\u001b[0m\u001b[0mindex\u001b[0m\u001b[1;33m]\u001b[0m\u001b[1;33m.\u001b[0m\u001b[0mlong\u001b[0m\u001b[1;33m(\u001b[0m\u001b[1;33m)\u001b[0m\u001b[1;33m\u001b[0m\u001b[1;33m\u001b[0m\u001b[0m\n\u001b[0m\u001b[0;32m     10\u001b[0m         \u001b[1;32melse\u001b[0m\u001b[1;33m:\u001b[0m\u001b[1;33m\u001b[0m\u001b[1;33m\u001b[0m\u001b[0m\n\u001b[0;32m     11\u001b[0m             \u001b[1;32mreturn\u001b[0m \u001b[0mself\u001b[0m\u001b[1;33m.\u001b[0m\u001b[0mx\u001b[0m\u001b[1;33m[\u001b[0m\u001b[0mindex\u001b[0m\u001b[1;33m]\u001b[0m\u001b[1;33m.\u001b[0m\u001b[0mreshape\u001b[0m\u001b[1;33m(\u001b[0m\u001b[1;33m[\u001b[0m\u001b[1;33m-\u001b[0m\u001b[1;36m1\u001b[0m\u001b[1;33m]\u001b[0m\u001b[1;33m)\u001b[0m\u001b[1;33m\u001b[0m\u001b[1;33m\u001b[0m\u001b[0m\n",
      "\u001b[1;31mKeyboardInterrupt\u001b[0m: "
     ]
    }
   ],
   "source": [
    "current=tool.TrainTool.train_adam_reset(ar_model,simple_data,valid_data,dlr=dlr1,batch_size=1000,epoch=100,epoch_per=10,early_end=early_end)\n",
    "ar_record.append(current[0])\n",
    "ar_reset+=current[1]"
   ]
  },
  {
   "cell_type": "code",
   "execution_count": null,
   "metadata": {},
   "outputs": [],
   "source": [
    "ar_lc=tool.learning_curve(ar_record,reshape=True)\n",
    "ar_lc_reset=tool.learning_curve([ar_reset])"
   ]
  },
  {
   "cell_type": "code",
   "execution_count": null,
   "metadata": {},
   "outputs": [],
   "source": [
    "# ar_lc.save('./data/ar_lc.npy')\n",
    "# ar_lc_reset.save('./data/ar_lc_reset.npy')\n",
    "# torch.save(ar_model,'ar_model')\n",
    "# tool.download('./data/ar_lc.npy')\n",
    "# tool.download('./data/ar_lc_reset.npy')\n",
    "# tool.download('./data/ar_model')"
   ]
  },
  {
   "cell_type": "markdown",
   "metadata": {},
   "source": [
    "# EXPAND"
   ]
  },
  {
   "cell_type": "code",
   "execution_count": null,
   "metadata": {},
   "outputs": [],
   "source": [
    "ex_model=mnist_single(100,40,device)\n",
    "ex_record=[]\n",
    "ex_ex=[]"
   ]
  },
  {
   "cell_type": "code",
   "execution_count": null,
   "metadata": {
    "tags": []
   },
   "outputs": [],
   "source": [
    "current=tool.TrainTool.train_expand(ex_model,train_data,valid_data,dlr=dlr1,batch_size=1000,epoch=200,early_end=early_end)\n",
    "ex_record.append(current[0])\n",
    "ex_ex+=current[1]"
   ]
  },
  {
   "cell_type": "code",
   "execution_count": null,
   "metadata": {},
   "outputs": [],
   "source": [
    "ex_lc=tool.learning_curve(ex_record,reshape=True)\n",
    "ex_lc_ex=tool.learning_curve([ex_ex])"
   ]
  },
  {
   "cell_type": "code",
   "execution_count": null,
   "metadata": {},
   "outputs": [],
   "source": [
    "# ex_lc.save('./data/ex_lc.npy')\n",
    "# ex_lc_ex.save('./data/ex_lc_ex.npy')\n",
    "# torch.save(ex_model,'./data/ex_model')\n",
    "# tool.downloads([\n",
    "#     './data/ex_lc.npy',\n",
    "#     './data/ex_lc_ex.npy',\n",
    "#     './data/ex_model'\n",
    "# ])"
   ]
  }
 ]
}