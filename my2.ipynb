{
 "metadata": {
  "language_info": {
   "codemirror_mode": {
    "name": "ipython",
    "version": 3
   },
   "file_extension": ".py",
   "mimetype": "text/x-python",
   "name": "python",
   "nbconvert_exporter": "python",
   "pygments_lexer": "ipython3",
   "version": "3.8.3-final"
  },
  "orig_nbformat": 2,
  "kernelspec": {
   "name": "python_defaultSpec_1598078545005",
   "display_name": "Python 3.8.3 64-bit"
  }
 },
 "nbformat": 4,
 "nbformat_minor": 2,
 "cells": [
  {
   "cell_type": "markdown",
   "metadata": {},
   "source": [
    "# FUNCTION"
   ]
  },
  {
   "cell_type": "code",
   "execution_count": null,
   "metadata": {},
   "outputs": [],
   "source": [
    "import torch\n",
    "import random\n",
    "import torchvision\n",
    "import pandas as pd\n",
    "import numpy as np \n",
    "import matplotlib.pyplot as plt\n",
    "import torch.utils.data as data\n",
    "import torch.nn as nn\n",
    "import tool\n",
    "%matplotlib inline\n",
    "import importlib\n",
    "importlib.reload(tool)"
   ]
  },
  {
   "cell_type": "code",
   "execution_count": 71,
   "metadata": {},
   "outputs": [],
   "source": [
    "class mnist_data(data.Dataset):\n",
    "    def __init__(self,x,y):\n",
    "        self.x=x.float()\n",
    "        self.y=y.float()\n",
    "    def __len__(self):\n",
    "        return len(self.x)\n",
    "    def __getitem__(self,index):\n",
    "        if self.y is not None:\n",
    "            return self.x[index].reshape([-1]),self.y[index]\n",
    "        else:\n",
    "            return self.x[index].reshape([-1])\n"
   ]
  },
  {
   "cell_type": "code",
   "execution_count": 97,
   "metadata": {},
   "outputs": [],
   "source": [
    "class Auto_Learning(nn.Module):\n",
    "    def __init__(self,input_a,hidden1_a,hidden2_a,hidden3_a,rand_seed=10):\n",
    "        torch.manual_seed(rand_seed)\n",
    "        super(Auto_Learning,self).__init__()\n",
    "        input_a=input_a*input_a\n",
    "        hidden1_a*=hidden1_a\n",
    "        hidden2_a*=hidden2_a\n",
    "        hidden3_a*=hidden3_a\n",
    "\n",
    "        self.net=nn.Sequential(\n",
    "            nn.Linear(input_a,hidden1_a),\n",
    "            nn.ReLU(),\n",
    "            nn.Linear(hidden1_a,hidden2_a),\n",
    "            nn.ReLU(),\n",
    "            nn.Linear(hidden2_a,hidden3_a),\n",
    "            nn.ReLU(),\n",
    "            nn.Linear(hidden3_a,hidden2_a),\n",
    "            nn.ReLU(),\n",
    "            nn.Linear(hidden2_a,hidden1_a),\n",
    "            nn.ReLU(),\n",
    "            nn.Linear(hidden1_a,input_a),\n",
    "            nn.ReLU()\n",
    "        )\n",
    "        self.lossF=nn.MSELoss()\n",
    "    def forward(self,input):\n",
    "        return self.net(input)\n",
    "    \n",
    "    def trainF(self,train_data,valid_data,learning_rate=0.1,epoch=100,epoch_per=10,batch_size=128,optim=None):\n",
    "        lossF=self.lossF\n",
    "        if optim is None:\n",
    "            optim=torch.optim.Adam(self.parameters(),lr=learning_rate)\n",
    "        loader=data.DataLoader(train_data,batch_size=batch_size)\n",
    "        train_record=[]\n",
    "        valid_record=[]\n",
    "\n",
    "        for i in range(epoch):\n",
    "            train_loss=0.0\n",
    "            for k in range(epoch_per):\n",
    "                for x,_ in loader:\n",
    "                    optim.zero_grad()\n",
    "                    res=self(x)\n",
    "                    loss=lossF(res,x)\n",
    "                    loss.backward()\n",
    "                    optim.step()\n",
    "                    train_loss+=loss*len(x)\n",
    "                    pass\n",
    "            #compute\n",
    "            train_loss/=len(train_data)\n",
    "            train_loss/=epoch_per\n",
    "            train_record.append(train_loss)\n",
    "            valid_loss=self.valid(valid_data)\n",
    "            valid_record.append(valid_loss)\n",
    "            #print\n",
    "            print(f'{i}\\t{train_loss:.4f}\\t{valid_loss:.4f}')\n",
    "    \n",
    "        return train_record,valid_record\n",
    "    def valid(self,valid_data,batch_size=128):\n",
    "        lossF=self.lossF\n",
    "        loader=data.DataLoader(valid_data)\n",
    "        total_loss=0.0\n",
    "        for x,_ in loader:\n",
    "            res=self(x)\n",
    "            loss=lossF(res,x).tolist()\n",
    "            total_loss+=loss*len(x)\n",
    "        return total_loss/len(valid_data)\n",
    "\n",
    "\n"
   ]
  },
  {
   "cell_type": "markdown",
   "metadata": {},
   "source": [
    "# CODE"
   ]
  },
  {
   "cell_type": "markdown",
   "metadata": {},
   "source": [
    "## data"
   ]
  },
  {
   "cell_type": "code",
   "execution_count": 40,
   "metadata": {},
   "outputs": [],
   "source": [
    "mnist=torchvision.datasets.MNIST('./mnist')"
   ]
  },
  {
   "cell_type": "code",
   "execution_count": 41,
   "metadata": {},
   "outputs": [],
   "source": [
    "train_x,test_x=tool.data_split(mnist.train_data,rand=20)\n",
    "train_y,test_y=tool.data_split(mnist.train_labels,rand=20)\n",
    "train_x,valid_x=tool.data_split(train_x,rand=10)\n",
    "train_y,valid_y=tool.data_split(train_y,rand=10)"
   ]
  },
  {
   "cell_type": "code",
   "execution_count": 72,
   "metadata": {},
   "outputs": [],
   "source": [
    "train_data=mnist_data(train_x,train_y)\n",
    "valid_data=mnist_data(valid_x,valid_y)\n",
    "test_data=mnist_data(test_x,test_y)"
   ]
  },
  {
   "cell_type": "code",
   "execution_count": 32,
   "metadata": {},
   "outputs": [
    {
     "output_type": "execute_result",
     "data": {
      "text/plain": "torch.Size([28, 28])"
     },
     "metadata": {},
     "execution_count": 32
    }
   ],
   "source": [
    "train_data[0][0].shape"
   ]
  },
  {
   "cell_type": "code",
   "execution_count": 69,
   "metadata": {
    "tags": []
   },
   "outputs": [
    {
     "output_type": "stream",
     "name": "stdout",
     "text": "38400\n9600\n12000\n"
    }
   ],
   "source": [
    "print(len(train_data))\n",
    "print(len(valid_data))\n",
    "print(len(test_data))"
   ]
  },
  {
   "cell_type": "markdown",
   "metadata": {},
   "source": [
    "# AUTO_LEARNING"
   ]
  },
  {
   "cell_type": "code",
   "execution_count": 100,
   "metadata": {},
   "outputs": [],
   "source": [
    "ALmodel=Auto_Learning(28,20,15,10)"
   ]
  },
  {
   "cell_type": "code",
   "execution_count": 101,
   "metadata": {
    "tags": []
   },
   "outputs": [
    {
     "output_type": "stream",
     "name": "stdout",
     "text": "0\t423049265152.0000\t7326.9802\n1\t7288.4048\t7326.9802\n2\t7288.4048\t7326.9802\n3\t7288.4048\t7326.9802\n4\t7288.4048\t7326.9802\n"
    },
    {
     "output_type": "error",
     "ename": "KeyboardInterrupt",
     "evalue": "",
     "traceback": [
      "\u001b[0;31m---------------------------------------------------------------------------\u001b[0m",
      "\u001b[0;31mKeyboardInterrupt\u001b[0m                         Traceback (most recent call last)",
      "\u001b[0;32m<ipython-input-101-7355575ae196>\u001b[0m in \u001b[0;36m<module>\u001b[0;34m\u001b[0m\n\u001b[0;32m----> 1\u001b[0;31m \u001b[0mtr\u001b[0m\u001b[0;34m,\u001b[0m\u001b[0mvr\u001b[0m\u001b[0;34m=\u001b[0m\u001b[0mALmodel\u001b[0m\u001b[0;34m.\u001b[0m\u001b[0mtrainF\u001b[0m\u001b[0;34m(\u001b[0m\u001b[0mtrain_data\u001b[0m\u001b[0;34m,\u001b[0m\u001b[0mvalid_data\u001b[0m\u001b[0;34m,\u001b[0m\u001b[0mbatch_size\u001b[0m\u001b[0;34m=\u001b[0m\u001b[0;36m10\u001b[0m\u001b[0;34m,\u001b[0m\u001b[0mepoch_per\u001b[0m\u001b[0;34m=\u001b[0m\u001b[0;36m1\u001b[0m\u001b[0;34m)\u001b[0m\u001b[0;34m\u001b[0m\u001b[0;34m\u001b[0m\u001b[0m\n\u001b[0m",
      "\u001b[0;32m<ipython-input-97-ecd0f761af64>\u001b[0m in \u001b[0;36mtrainF\u001b[0;34m(self, train_data, valid_data, learning_rate, epoch, epoch_per, batch_size, optim)\u001b[0m\n\u001b[1;32m     38\u001b[0m             \u001b[0;32mfor\u001b[0m \u001b[0mk\u001b[0m \u001b[0;32min\u001b[0m \u001b[0mrange\u001b[0m\u001b[0;34m(\u001b[0m\u001b[0mepoch_per\u001b[0m\u001b[0;34m)\u001b[0m\u001b[0;34m:\u001b[0m\u001b[0;34m\u001b[0m\u001b[0;34m\u001b[0m\u001b[0m\n\u001b[1;32m     39\u001b[0m                 \u001b[0;32mfor\u001b[0m \u001b[0mx\u001b[0m\u001b[0;34m,\u001b[0m\u001b[0m_\u001b[0m \u001b[0;32min\u001b[0m \u001b[0mloader\u001b[0m\u001b[0;34m:\u001b[0m\u001b[0;34m\u001b[0m\u001b[0;34m\u001b[0m\u001b[0m\n\u001b[0;32m---> 40\u001b[0;31m                     \u001b[0moptim\u001b[0m\u001b[0;34m.\u001b[0m\u001b[0mzero_grad\u001b[0m\u001b[0;34m(\u001b[0m\u001b[0;34m)\u001b[0m\u001b[0;34m\u001b[0m\u001b[0;34m\u001b[0m\u001b[0m\n\u001b[0m\u001b[1;32m     41\u001b[0m                     \u001b[0mres\u001b[0m\u001b[0;34m=\u001b[0m\u001b[0mself\u001b[0m\u001b[0;34m(\u001b[0m\u001b[0mx\u001b[0m\u001b[0;34m)\u001b[0m\u001b[0;34m\u001b[0m\u001b[0;34m\u001b[0m\u001b[0m\n\u001b[1;32m     42\u001b[0m                     \u001b[0mloss\u001b[0m\u001b[0;34m=\u001b[0m\u001b[0mlossF\u001b[0m\u001b[0;34m(\u001b[0m\u001b[0mres\u001b[0m\u001b[0;34m,\u001b[0m\u001b[0mx\u001b[0m\u001b[0;34m)\u001b[0m\u001b[0;34m\u001b[0m\u001b[0;34m\u001b[0m\u001b[0m\n",
      "\u001b[0;32m/Library/Frameworks/Python.framework/Versions/3.8/lib/python3.8/site-packages/torch/optim/optimizer.py\u001b[0m in \u001b[0;36mzero_grad\u001b[0;34m(self)\u001b[0m\n\u001b[1;32m    163\u001b[0m                 \u001b[0;32mif\u001b[0m \u001b[0mp\u001b[0m\u001b[0;34m.\u001b[0m\u001b[0mgrad\u001b[0m \u001b[0;32mis\u001b[0m \u001b[0;32mnot\u001b[0m \u001b[0;32mNone\u001b[0m\u001b[0;34m:\u001b[0m\u001b[0;34m\u001b[0m\u001b[0;34m\u001b[0m\u001b[0m\n\u001b[1;32m    164\u001b[0m                     \u001b[0mp\u001b[0m\u001b[0;34m.\u001b[0m\u001b[0mgrad\u001b[0m\u001b[0;34m.\u001b[0m\u001b[0mdetach_\u001b[0m\u001b[0;34m(\u001b[0m\u001b[0;34m)\u001b[0m\u001b[0;34m\u001b[0m\u001b[0;34m\u001b[0m\u001b[0m\n\u001b[0;32m--> 165\u001b[0;31m                     \u001b[0mp\u001b[0m\u001b[0;34m.\u001b[0m\u001b[0mgrad\u001b[0m\u001b[0;34m.\u001b[0m\u001b[0mzero_\u001b[0m\u001b[0;34m(\u001b[0m\u001b[0;34m)\u001b[0m\u001b[0;34m\u001b[0m\u001b[0;34m\u001b[0m\u001b[0m\n\u001b[0m\u001b[1;32m    166\u001b[0m \u001b[0;34m\u001b[0m\u001b[0m\n\u001b[1;32m    167\u001b[0m     \u001b[0;32mdef\u001b[0m \u001b[0mstep\u001b[0m\u001b[0;34m(\u001b[0m\u001b[0mself\u001b[0m\u001b[0;34m,\u001b[0m \u001b[0mclosure\u001b[0m\u001b[0;34m)\u001b[0m\u001b[0;34m:\u001b[0m\u001b[0;34m\u001b[0m\u001b[0;34m\u001b[0m\u001b[0m\n",
      "\u001b[0;31mKeyboardInterrupt\u001b[0m: "
     ]
    }
   ],
   "source": [
    "tr,vr=ALmodel.trainF(train_data,valid_data,batch_size=10,epoch_per=1)"
   ]
  },
  {
   "cell_type": "code",
   "execution_count": 96,
   "metadata": {},
   "outputs": [
    {
     "output_type": "execute_result",
     "data": {
      "text/plain": "7313.5745828882855"
     },
     "metadata": {},
     "execution_count": 96
    }
   ],
   "source": [
    "ALmodel.valid(valid_data)"
   ]
  },
  {
   "cell_type": "code",
   "execution_count": null,
   "metadata": {},
   "outputs": [],
   "source": []
  }
 ]
}