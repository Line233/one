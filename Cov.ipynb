{
 "metadata": {
  "language_info": {
   "codemirror_mode": {
    "name": "ipython",
    "version": 3
   },
   "file_extension": ".py",
   "mimetype": "text/x-python",
   "name": "python",
   "nbconvert_exporter": "python",
   "pygments_lexer": "ipython3",
   "version": "3.8.3-final"
  },
  "orig_nbformat": 2,
  "kernelspec": {
   "name": "python_defaultSpec_1598149422352",
   "display_name": "Python 3.8.3 64-bit"
  }
 },
 "nbformat": 4,
 "nbformat_minor": 2,
 "cells": [
  {
   "cell_type": "markdown",
   "metadata": {},
   "source": [
    "# FUNCTIONS"
   ]
  },
  {
   "cell_type": "code",
   "execution_count": null,
   "metadata": {},
   "outputs": [],
   "source": [
    "# !git clone https://github.com/Line233/one.git ./one\n",
    "# !mv ./one/tool.py ./"
   ]
  },
  {
   "cell_type": "code",
   "execution_count": null,
   "metadata": {},
   "outputs": [],
   "source": [
    "import torch\n",
    "import random\n",
    "import torchvision\n",
    "import pandas as pd\n",
    "import numpy as np \n",
    "import matplotlib.pyplot as plt\n",
    "import torch.utils.data as data\n",
    "import torch.nn as nn\n",
    "import tool\n",
    "%matplotlib inline\n",
    "import importlib\n",
    "importlib.reload(tool)"
   ]
  },
  {
   "cell_type": "code",
   "execution_count": null,
   "metadata": {},
   "outputs": [],
   "source": [
    "class mnist_data(data.Dataset):\n",
    "    def __init__(self,x,y):\n",
    "        self.x=x.float()\n",
    "        self.y=y.long()\n",
    "    def __len__(self):\n",
    "        return len(self.x)\n",
    "    def __getitem__(self,index):\n",
    "        if self.y is not None:\n",
    "            return self.x[index].reshape([-1]),self.y[index].long()\n",
    "        else:\n",
    "            return self.x[index].reshape([-1])"
   ]
  },
  {
   "cell_type": "code",
   "execution_count": null,
   "metadata": {},
   "outputs": [],
   "source": [
    "class mnist_cov(nn.Module):\n",
    "    def __init__(self,input_a,input_channel,device=torch.device('cpu')):\n",
    "        super(mnist_cov,self).__init__()\n",
    "        self.device=device\n",
    "        self.inputa=input_a\n",
    "        self.input_channel=input_channel\n",
    "        self.conv1= nn.Conv2d(1,3,3,1,0)\n",
    "        self.conv2=nn.Conv2d(3,6,3,2)\n",
    "        self.conv3=nn.Conv2d(6,12,3,1)\n",
    "        self.relu=nn.ReLU()\n",
    "        self.out=nn.Sequential(\n",
    "            nn.Linear(12,10),\n",
    "            nn.Softmax(1)\n",
    "        )\n",
    "        self.lossF=nn.CrossEntropyLoss()\n",
    "        pass\n",
    "    def forward(self,input):\n",
    "        input=input.reshape([-1,self.input_channel,self.inputa,self.inputa]).to(self.device)\n",
    "        res= self.conv1(input)\n",
    "        res=self.relu(res)\n",
    "        res=self.conv2(res)\n",
    "        res=self.relu(res)\n",
    "        res=self.conv3(res)\n",
    "        res=self.relu(res)\n",
    "        res=res.reshape([-1,12])\n",
    "        res=self.out(res)\n",
    "        return res\n",
    "    def reset_loss_record(self):\n",
    "        self.__total_loss__=0.0\n",
    "        self.__right_num__=0\n",
    "        self.__total_num__=0\n",
    "    def computeloss(self,x,y,res):\n",
    "        loss=self.lossF(res,y)\n",
    "        self.__total_loss__+=loss.tolist()*len(x)\n",
    "        a=res.argmax(dim=1)\n",
    "        self.__right_num__+=torch.eq(a,y).sum().tolist()\n",
    "        self.__total_num__+=len(x)\n",
    "        return loss\n",
    "    def get_loss(self):\n",
    "        return self.__total_loss__/self.__total_num__,self.__right_num__/self.__total_num__"
   ]
  },
  {
   "cell_type": "markdown",
   "metadata": {},
   "source": [
    "# DATA"
   ]
  },
  {
   "cell_type": "code",
   "execution_count": null,
   "metadata": {},
   "outputs": [],
   "source": [
    "train_data=torch.load('./data/train_hidden')\n",
    "valid_data=torch.load('./data/valid_hidden')\n",
    "test_data=torch.load('./data/test_hidden')"
   ]
  },
  {
   "cell_type": "code",
   "execution_count": null,
   "metadata": {},
   "outputs": [],
   "source": [
    "device=torch.device('cuda') if torch.cuda.is_available() else torch.device('cpu')"
   ]
  },
  {
   "cell_type": "code",
   "execution_count": null,
   "metadata": {},
   "outputs": [],
   "source": [
    "simple_data=mnist_data(valid_data[0:100][0].reshape([-1,10,10]),valid_data[0:100][1])"
   ]
  },
  {
   "cell_type": "markdown",
   "metadata": {},
   "source": [
    "# TRAIN"
   ]
  },
  {
   "cell_type": "code",
   "execution_count": null,
   "metadata": {},
   "outputs": [],
   "source": [
    "model=mnist_cov(10,1)"
   ]
  },
  {
   "cell_type": "code",
   "execution_count": null,
   "metadata": {
    "tags": []
   },
   "outputs": [],
   "source": [
    "tool.TrainTool.train_epoch(model,train_data,valid_data,lr=0.001)"
   ]
  },
  {
   "cell_type": "code",
   "execution_count": null,
   "metadata": {},
   "outputs": [],
   "source": []
  }
 ]
}